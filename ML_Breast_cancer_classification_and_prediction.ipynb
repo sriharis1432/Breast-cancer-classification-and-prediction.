{
  "nbformat": 4,
  "nbformat_minor": 0,
  "metadata": {
    "colab": {
      "provenance": []
    },
    "kernelspec": {
      "name": "python3",
      "display_name": "Python 3"
    },
    "language_info": {
      "name": "python"
    }
  },
  "cells": [
    {
      "cell_type": "code",
      "source": [
        "# import libraries\n",
        "import pandas as pd\n",
        "import numpy as np\n",
        "from sklearn.model_selection import train_test_split\n",
        "from sklearn.linear_model import LogisticRegression\n",
        "from sklearn.svm import SVC\n",
        "import pickle\n",
        "\n",
        "# load the dataset\n",
        "data = pd.read_csv(\"breast_cancer.csv\")\n",
        "\n",
        "# pre-processing\n",
        "data.drop(['id'], inplace = True, axis = 1)\n",
        "data.replace('?', -99999, inplace = True)\n",
        "data[\"Class\"] = data[\"Class\"].map(lambda x: 1 if x == 4 else 0)\n",
        "\n",
        "# Defining X and y (Features and Labels)\n",
        "X = np.array(data.drop([\"Class\"], axis = 1))\n",
        "y = np.array(data[\"Class\"])\n",
        "\n",
        "############# Training and Testing the Models ##############\n",
        "[X_train, X_test, y_train, y_test] = train_test_split(X, y, test_size = 0.1, random_state = 0)\n",
        "\n",
        "# # SVC Classifier\n",
        "Classifier = SVC(kernel = 'linear')\n",
        "model = Classifier.fit(X_train, y_train)\n",
        "accu = model.score(X_test, y_test)\n",
        "print(\"Accuracy of SVC: \", accu)\n",
        "\n",
        "# # Logistic Regression\n",
        "Classifier = LogisticRegression(solver = 'liblinear')\n",
        "model = Classifier.fit(X_train, y_train)\n",
        "accu = model.score(X_test, y_test)\n",
        "print(\"Accuracy of Logistic Regression : \", accu)\n",
        "\n",
        "# Saving and Loading the Models #\n",
        "\n",
        "#Save the model\n",
        "pickle.dump(model, open(\"LogisticRegression.m\", \"wb\"))\n",
        "\n",
        "# Loading The model\n",
        "loaded_model = pickle.load(open(\"LogisticRegression.m\", \"rb\"))\n",
        "accu = loaded_model.score(X_test, y_test)\n",
        "print(\"Accuracy of Logistic Regression : \", accu)\n",
        "\n",
        "###### Making Predictions  #######\n",
        "classes = [\"Benign\", \"Malignant\"]\n",
        "sample = np.array([[5,10,10,10,7,7,3,8,9]])\n",
        "result = loaded_model.predict(sample)\n",
        "print(classes[int(result)])\n",
        "\n",
        "\n",
        "sample2 = np.array([[3,1,1,1,2,2,3,1,1]])\n",
        "result = loaded_model.predict(sample2)\n",
        "print(classes[int(result)])\n",
        "\n",
        "\n",
        "sample3 = np.array([[8,1,10,8,7,10,9,7,1]])\n",
        "result = loaded_model.predict(sample3)\n",
        "print(classes[int(result)])"
      ],
      "metadata": {
        "colab": {
          "base_uri": "https://localhost:8080/"
        },
        "id": "Q9F7VIqOMZyz",
        "outputId": "39f000f3-ba38-4ca9-a9e8-601533af5d45"
      },
      "execution_count": null,
      "outputs": [
        {
          "output_type": "stream",
          "name": "stdout",
          "text": [
            "Accuracy of SVC:  0.9571428571428572\n",
            "Accuracy of Logistic Regression :  0.9571428571428572\n",
            "Accuracy of Logistic Regression :  0.9571428571428572\n",
            "Malignant\n",
            "Benign\n",
            "Malignant\n"
          ]
        }
      ]
    }
  ]
}